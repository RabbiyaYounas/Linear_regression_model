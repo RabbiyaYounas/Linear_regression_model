{
 "cells": [
  {
   "cell_type": "code",
   "execution_count": 1,
   "id": "37172267-19db-4c5a-a4e5-b8bb3fbe1e42",
   "metadata": {},
   "outputs": [
    {
     "name": "stdout",
     "output_type": "stream",
     "text": [
      "Requirement already satisfied: numpy in /opt/anaconda3/lib/python3.11/site-packages (1.26.4)\n"
     ]
    }
   ],
   "source": [
    "!pip install numpy"
   ]
  },
  {
   "cell_type": "code",
   "execution_count": 3,
   "id": "1f61f026-517d-4df6-a81c-9d88803cbb45",
   "metadata": {},
   "outputs": [],
   "source": [
    "# Import necessary libraries\n",
    "import numpy as np \n",
    "import matplotlib.pyplot as plt \n",
    "import pandas as pd \n",
    "import seaborn as sns \n",
    "\n",
    "# Ensure plots are displayed inline\n",
    "%matplotlib inline \n",
    "\n"
   ]
  },
  {
   "cell_type": "code",
   "execution_count": 4,
   "id": "7a50be6e-535b-4918-8136-87b812aa4f6e",
   "metadata": {},
   "outputs": [],
   "source": [
    "# Importing the dataset and Extracting the Independent and Dependent variables\n",
    "companies = pd.read_csv('/Users/rabbiyayounas/Documents/DatasetsML/1000_Companies.csv')\n",
    "\n",
    "#X will contain all columns except the last one.\n",
    "#y will contain the values from the 5th column (index 4).\n",
    "\n",
    "\n",
    "X = companies.iloc[:, :-1].values\n",
    "y = companies.iloc[:, 4].values"
   ]
  },
  {
   "cell_type": "code",
   "execution_count": 5,
   "id": "618df5b8-db91-42c2-a818-a5fd12e0c0e2",
   "metadata": {},
   "outputs": [
    {
     "data": {
      "text/html": [
       "<div>\n",
       "<style scoped>\n",
       "    .dataframe tbody tr th:only-of-type {\n",
       "        vertical-align: middle;\n",
       "    }\n",
       "\n",
       "    .dataframe tbody tr th {\n",
       "        vertical-align: top;\n",
       "    }\n",
       "\n",
       "    .dataframe thead th {\n",
       "        text-align: right;\n",
       "    }\n",
       "</style>\n",
       "<table border=\"1\" class=\"dataframe\">\n",
       "  <thead>\n",
       "    <tr style=\"text-align: right;\">\n",
       "      <th></th>\n",
       "      <th>R&amp;D Spend</th>\n",
       "      <th>Administration</th>\n",
       "      <th>Marketing Spend</th>\n",
       "      <th>State</th>\n",
       "      <th>Profit</th>\n",
       "    </tr>\n",
       "  </thead>\n",
       "  <tbody>\n",
       "    <tr>\n",
       "      <th>0</th>\n",
       "      <td>165349.20</td>\n",
       "      <td>136897.80</td>\n",
       "      <td>471784.10</td>\n",
       "      <td>New York</td>\n",
       "      <td>192261.83</td>\n",
       "    </tr>\n",
       "    <tr>\n",
       "      <th>1</th>\n",
       "      <td>162597.70</td>\n",
       "      <td>151377.59</td>\n",
       "      <td>443898.53</td>\n",
       "      <td>California</td>\n",
       "      <td>191792.06</td>\n",
       "    </tr>\n",
       "    <tr>\n",
       "      <th>2</th>\n",
       "      <td>153441.51</td>\n",
       "      <td>101145.55</td>\n",
       "      <td>407934.54</td>\n",
       "      <td>Florida</td>\n",
       "      <td>191050.39</td>\n",
       "    </tr>\n",
       "    <tr>\n",
       "      <th>3</th>\n",
       "      <td>144372.41</td>\n",
       "      <td>118671.85</td>\n",
       "      <td>383199.62</td>\n",
       "      <td>New York</td>\n",
       "      <td>182901.99</td>\n",
       "    </tr>\n",
       "    <tr>\n",
       "      <th>4</th>\n",
       "      <td>142107.34</td>\n",
       "      <td>91391.77</td>\n",
       "      <td>366168.42</td>\n",
       "      <td>Florida</td>\n",
       "      <td>166187.94</td>\n",
       "    </tr>\n",
       "  </tbody>\n",
       "</table>\n",
       "</div>"
      ],
      "text/plain": [
       "   R&D Spend  Administration  Marketing Spend       State     Profit\n",
       "0  165349.20       136897.80        471784.10    New York  192261.83\n",
       "1  162597.70       151377.59        443898.53  California  191792.06\n",
       "2  153441.51       101145.55        407934.54     Florida  191050.39\n",
       "3  144372.41       118671.85        383199.62    New York  182901.99\n",
       "4  142107.34        91391.77        366168.42     Florida  166187.94"
      ]
     },
     "execution_count": 5,
     "metadata": {},
     "output_type": "execute_result"
    }
   ],
   "source": [
    "companies.head()"
   ]
  },
  {
   "cell_type": "code",
   "execution_count": 12,
   "id": "e6a30340-6770-4f32-91f9-f0d1c3994029",
   "metadata": {},
   "outputs": [],
   "source": [
    "# Encoding categorical data\n",
    "#Label Encoding: Converts each category to a number.\n",
    "#One-Hot Encoding: Converts each category to a binary vector (array of 0s and 1s).\n",
    "# row 3 is names of cities. Linear regression model understand numbers only so we converted \n",
    "\n",
    "from sklearn.preprocessing import LabelEncoder, OneHotEncoder\n",
    "from sklearn.compose import ColumnTransformer\n",
    "\n",
    "# Country column\n",
    "ct = ColumnTransformer([(\"State\", OneHotEncoder(), [3])], remainder = 'passthrough')\n",
    "X = ct.fit_transform(X)\n",
    "\n"
   ]
  },
  {
   "cell_type": "code",
   "execution_count": 13,
   "id": "abe9e8e1-3248-492d-88f5-ad0690d527c6",
   "metadata": {},
   "outputs": [],
   "source": [
    "# Avoiding the Dummy Variable Trap\n",
    "X = X[:, 1:]"
   ]
  },
  {
   "cell_type": "code",
   "execution_count": 14,
   "id": "308327a9-2ad1-4dc5-a05a-bf849a050783",
   "metadata": {},
   "outputs": [],
   "source": [
    "# Splitting the dataset into the Training set and Test set\n",
    "from sklearn.model_selection import train_test_split\n",
    "X_train, X_test, y_train, y_test = train_test_split(X, y, test_size = 0.2, random_state = 0)"
   ]
  },
  {
   "cell_type": "code",
   "execution_count": 15,
   "id": "d95c9fca-4825-47a2-9505-5afccc7130ba",
   "metadata": {},
   "outputs": [
    {
     "data": {
      "text/html": [
       "<style>#sk-container-id-1 {color: black;background-color: white;}#sk-container-id-1 pre{padding: 0;}#sk-container-id-1 div.sk-toggleable {background-color: white;}#sk-container-id-1 label.sk-toggleable__label {cursor: pointer;display: block;width: 100%;margin-bottom: 0;padding: 0.3em;box-sizing: border-box;text-align: center;}#sk-container-id-1 label.sk-toggleable__label-arrow:before {content: \"▸\";float: left;margin-right: 0.25em;color: #696969;}#sk-container-id-1 label.sk-toggleable__label-arrow:hover:before {color: black;}#sk-container-id-1 div.sk-estimator:hover label.sk-toggleable__label-arrow:before {color: black;}#sk-container-id-1 div.sk-toggleable__content {max-height: 0;max-width: 0;overflow: hidden;text-align: left;background-color: #f0f8ff;}#sk-container-id-1 div.sk-toggleable__content pre {margin: 0.2em;color: black;border-radius: 0.25em;background-color: #f0f8ff;}#sk-container-id-1 input.sk-toggleable__control:checked~div.sk-toggleable__content {max-height: 200px;max-width: 100%;overflow: auto;}#sk-container-id-1 input.sk-toggleable__control:checked~label.sk-toggleable__label-arrow:before {content: \"▾\";}#sk-container-id-1 div.sk-estimator input.sk-toggleable__control:checked~label.sk-toggleable__label {background-color: #d4ebff;}#sk-container-id-1 div.sk-label input.sk-toggleable__control:checked~label.sk-toggleable__label {background-color: #d4ebff;}#sk-container-id-1 input.sk-hidden--visually {border: 0;clip: rect(1px 1px 1px 1px);clip: rect(1px, 1px, 1px, 1px);height: 1px;margin: -1px;overflow: hidden;padding: 0;position: absolute;width: 1px;}#sk-container-id-1 div.sk-estimator {font-family: monospace;background-color: #f0f8ff;border: 1px dotted black;border-radius: 0.25em;box-sizing: border-box;margin-bottom: 0.5em;}#sk-container-id-1 div.sk-estimator:hover {background-color: #d4ebff;}#sk-container-id-1 div.sk-parallel-item::after {content: \"\";width: 100%;border-bottom: 1px solid gray;flex-grow: 1;}#sk-container-id-1 div.sk-label:hover label.sk-toggleable__label {background-color: #d4ebff;}#sk-container-id-1 div.sk-serial::before {content: \"\";position: absolute;border-left: 1px solid gray;box-sizing: border-box;top: 0;bottom: 0;left: 50%;z-index: 0;}#sk-container-id-1 div.sk-serial {display: flex;flex-direction: column;align-items: center;background-color: white;padding-right: 0.2em;padding-left: 0.2em;position: relative;}#sk-container-id-1 div.sk-item {position: relative;z-index: 1;}#sk-container-id-1 div.sk-parallel {display: flex;align-items: stretch;justify-content: center;background-color: white;position: relative;}#sk-container-id-1 div.sk-item::before, #sk-container-id-1 div.sk-parallel-item::before {content: \"\";position: absolute;border-left: 1px solid gray;box-sizing: border-box;top: 0;bottom: 0;left: 50%;z-index: -1;}#sk-container-id-1 div.sk-parallel-item {display: flex;flex-direction: column;z-index: 1;position: relative;background-color: white;}#sk-container-id-1 div.sk-parallel-item:first-child::after {align-self: flex-end;width: 50%;}#sk-container-id-1 div.sk-parallel-item:last-child::after {align-self: flex-start;width: 50%;}#sk-container-id-1 div.sk-parallel-item:only-child::after {width: 0;}#sk-container-id-1 div.sk-dashed-wrapped {border: 1px dashed gray;margin: 0 0.4em 0.5em 0.4em;box-sizing: border-box;padding-bottom: 0.4em;background-color: white;}#sk-container-id-1 div.sk-label label {font-family: monospace;font-weight: bold;display: inline-block;line-height: 1.2em;}#sk-container-id-1 div.sk-label-container {text-align: center;}#sk-container-id-1 div.sk-container {/* jupyter's `normalize.less` sets `[hidden] { display: none; }` but bootstrap.min.css set `[hidden] { display: none !important; }` so we also need the `!important` here to be able to override the default hidden behavior on the sphinx rendered scikit-learn.org. See: https://github.com/scikit-learn/scikit-learn/issues/21755 */display: inline-block !important;position: relative;}#sk-container-id-1 div.sk-text-repr-fallback {display: none;}</style><div id=\"sk-container-id-1\" class=\"sk-top-container\"><div class=\"sk-text-repr-fallback\"><pre>LinearRegression()</pre><b>In a Jupyter environment, please rerun this cell to show the HTML representation or trust the notebook. <br />On GitHub, the HTML representation is unable to render, please try loading this page with nbviewer.org.</b></div><div class=\"sk-container\" hidden><div class=\"sk-item\"><div class=\"sk-estimator sk-toggleable\"><input class=\"sk-toggleable__control sk-hidden--visually\" id=\"sk-estimator-id-1\" type=\"checkbox\" checked><label for=\"sk-estimator-id-1\" class=\"sk-toggleable__label sk-toggleable__label-arrow\">LinearRegression</label><div class=\"sk-toggleable__content\"><pre>LinearRegression()</pre></div></div></div></div></div>"
      ],
      "text/plain": [
       "LinearRegression()"
      ]
     },
     "execution_count": 15,
     "metadata": {},
     "output_type": "execute_result"
    }
   ],
   "source": [
    "# Fitting Multiple Linear Regression to the Training set\n",
    "from sklearn.linear_model import LinearRegression\n",
    "regressor = LinearRegression()\n",
    "regressor.fit(X_train, y_train)"
   ]
  },
  {
   "cell_type": "code",
   "execution_count": 16,
   "id": "6337206d-4f05-4c09-bfdf-70a60068fa53",
   "metadata": {},
   "outputs": [
    {
     "data": {
      "text/plain": [
       "array([ 89790.61532916,  88427.07187362,  94894.67836972, 175680.86725609,\n",
       "        83411.7304209 , 110571.90200074, 132145.22936439,  91473.37719687,\n",
       "       164597.05380605,  53222.82667403,  66950.19050991, 150566.43987004,\n",
       "       126915.20858596,  59337.85971052, 177513.9105306 ,  75316.28143052,\n",
       "       118248.14406603, 164574.40699901, 170937.28981069, 182069.11645082,\n",
       "       118845.0325269 ,  85669.95112229, 180992.59396142,  84145.08220146,\n",
       "       105005.83769214, 101233.56772747,  53831.07669094,  56881.41475226,\n",
       "        68896.39346906, 210040.00765881, 120778.72270894, 111724.87157655,\n",
       "       101487.90541518, 137959.02649623,  63969.95996745, 108857.91214127,\n",
       "       186014.72531986, 171442.64130746, 174644.26529203, 117671.49128195,\n",
       "        96731.37857434, 165452.25779408, 107724.34331255,  50194.54176915,\n",
       "       116513.89532179,  58632.48986822, 158416.46827608,  78541.48521611,\n",
       "       159727.66671742, 131137.87699643, 184880.70924514, 174609.08266878,\n",
       "        93745.66352059,  78341.13383419, 180745.90439078,  84461.61490553,\n",
       "       142900.90602902, 170618.44098395,  84365.0953084 , 105307.37162181,\n",
       "       141660.07290786,  52527.34340444, 141842.9626416 , 139176.27973194,\n",
       "        98294.52669667, 113586.86790969, 126754.21895489, 152135.51985561,\n",
       "        58864.51658957, 174285.57361128, 124624.04380783, 169065.77658977,\n",
       "        91279.3319821 , 156170.37268961,  84307.26579367,  77877.75223098,\n",
       "       120414.02421346,  93380.44273242, 139020.6251412 , 143604.67103572,\n",
       "       171148.30815367, 140082.97050131, 106369.71689747, 155641.43851386,\n",
       "       140030.10330036, 110172.87893525,  69672.98677566,  88148.52068042,\n",
       "       140133.59925092, 148479.09537887, 157916.63505256,  58532.94863143,\n",
       "        93707.38422391, 112646.37475705,  56556.18943662, 107414.89996181,\n",
       "       147352.80227752, 152144.10104033, 167808.11701782, 118750.25230713,\n",
       "       120763.27666701, 139029.95295662, 157527.90934118, 121962.0621496 ,\n",
       "        87091.32399737, 104792.91384334,  95335.22679186, 178389.52287434,\n",
       "       181942.63776379, 109831.34945507, 165254.03344095, 167806.06491901,\n",
       "       158002.44642542, 174782.86900955, 170196.77102697,  52302.18161614,\n",
       "       176938.11595788, 104751.83583866,  82710.31528806, 138890.52767843,\n",
       "       144274.74675424, 161679.01836439, 169662.05445894, 120450.9231013 ,\n",
       "       158880.70799545, 110213.73252825, 169674.51532365,  60760.61300843,\n",
       "       159036.99629067, 158169.44286047, 174511.70494473, 156294.79927783,\n",
       "       103714.37583212,  85635.96237575, 141603.54878756, 165917.69156978,\n",
       "       121182.03641977, 170751.87883893, 100505.77549412,  82097.51033129,\n",
       "       178643.18879841, 101790.48384579,  70507.40958623,  90250.04230089,\n",
       "        61247.49962681,  68912.17534522,  72775.81613477, 176914.08873123,\n",
       "        89704.69244932, 129209.43730016,  92672.90938383,  88133.59175045,\n",
       "       172836.33021617,  60893.62070016, 169015.89446009, 166450.24453203,\n",
       "       165425.54476414, 102170.51694991, 181594.57928214,  73702.57942563,\n",
       "        91267.42979669, 135791.54160195,  64922.80257302,  71775.70235727,\n",
       "        60603.91401517, 184288.61041914, 176286.69585943, 158907.75687038,\n",
       "       141359.32216438, 154611.1792832 ,  58549.58863235,  90618.584079  ,\n",
       "       152885.51163924, 168398.05223804,  72485.36274541, 116064.24350667,\n",
       "        80087.80697209, 149828.90896187, 116806.95957371, 130191.4884516 ,\n",
       "       174534.42670327, 293584.45948282, 146270.83174788, 150646.69178013,\n",
       "        86107.47782248,  69967.20842247,  70096.78368774,  69033.6917077 ,\n",
       "       120666.75708063,  89677.68014064, 166824.27091661, 125514.76626409,\n",
       "        67209.67687468, 140930.69427701, 118544.30490695, 165897.61905905,\n",
       "       168655.48652551, 147009.66805048, 141396.22104146, 109086.50634849])"
      ]
     },
     "execution_count": 16,
     "metadata": {},
     "output_type": "execute_result"
    }
   ],
   "source": [
    "# Predicting the Test set results\n",
    "#It takes X_test as input and computes predicted values (y_pred) based on the learned relationships between input features and the target variable from the training phase.\n",
    "y_pred = regressor.predict(X_test)\n",
    "y_pred"
   ]
  },
  {
   "cell_type": "code",
   "execution_count": 17,
   "id": "bc1d5830-64bf-43e7-b095-092cbcc0458e",
   "metadata": {},
   "outputs": [
    {
     "name": "stdout",
     "output_type": "stream",
     "text": [
      "[-8.80536598e+02 -6.98169073e+02  5.25845857e-01  8.44390881e-01\n",
      "  1.07574255e-01]\n"
     ]
    }
   ],
   "source": [
    "# Calculating the Coefficients\n",
    "#The coefficients (regressor.coef_) indicate the impact of each feature on the predicted outcome (y).\n",
    "print(regressor.coef_)"
   ]
  },
  {
   "cell_type": "code",
   "execution_count": 18,
   "id": "2ec8508e-4b36-43f4-97d7-cba8dee9161c",
   "metadata": {},
   "outputs": [
    {
     "name": "stdout",
     "output_type": "stream",
     "text": [
      "-51035.229724003526\n"
     ]
    }
   ],
   "source": [
    "# Calculating the Intercept\n",
    "#The intercept (regressor.intercept_) in this context represents the base price of a house when its size (X) is zero.\n",
    "print(regressor.intercept_)"
   ]
  },
  {
   "cell_type": "code",
   "execution_count": 19,
   "id": "8a2a6a14-a86c-4e9f-9ce4-6a2d39ee933a",
   "metadata": {},
   "outputs": [
    {
     "data": {
      "text/plain": [
       "0.9112695892268797"
      ]
     },
     "execution_count": 19,
     "metadata": {},
     "output_type": "execute_result"
    }
   ],
   "source": [
    "# Calculating the R squared value\n",
    "from sklearn.metrics import r2_score\n",
    "r2_score(y_test, y_pred)"
   ]
  },
  {
   "cell_type": "code",
   "execution_count": null,
   "id": "9cf8b0e3-5590-45de-8767-4a683c34c5ff",
   "metadata": {},
   "outputs": [],
   "source": []
  }
 ],
 "metadata": {
  "kernelspec": {
   "display_name": "Python 3 (ipykernel)",
   "language": "python",
   "name": "python3"
  },
  "language_info": {
   "codemirror_mode": {
    "name": "ipython",
    "version": 3
   },
   "file_extension": ".py",
   "mimetype": "text/x-python",
   "name": "python",
   "nbconvert_exporter": "python",
   "pygments_lexer": "ipython3",
   "version": "3.11.7"
  }
 },
 "nbformat": 4,
 "nbformat_minor": 5
}
